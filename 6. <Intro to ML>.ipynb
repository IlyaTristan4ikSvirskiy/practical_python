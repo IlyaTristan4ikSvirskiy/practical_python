{
 "cells": [
  {
   "cell_type": "markdown",
   "metadata": {},
   "source": [
    "https://www.kaggle.com/kemical/kickstarter-projects\n",
    "    \n",
    "Steps:\n",
    "    1. Classification, Regression, Clustering -- what does it mean? Simple examples with temperature and snow.\n",
    "    2. KNN implementation with code review.\n",
    "    3. Prediction of projects success for kickstarter."
   ]
  },
  {
   "cell_type": "markdown",
   "metadata": {},
   "source": [
    "# 1. Основы машинного обучения\n",
    "\n",
    "Идея машинного обучения заключается в том, чтобы создать такую программу, которая для конкретной задачи принимает на вход много примеров её решения, и каким-то образом на этих примерах обучается такую задачу решать.\n",
    "\n",
    "Есть несколько основных классов задач машинного обучения:\n",
    "- Обучение с учителем (supervised learning)\n",
    "- Обучение без учителя (unsupervised learning)\n",
    "- Обучение с подкреплением (reinforcement learning)\n",
    "\n",
    "Бывают и другие (например, semi-supervised learning), но так как эта область науки сейчас активно развивается, ещё нет чёткой терминологии по поводу других видов задач машинного обучения.\n",
    "Мы будем в основном говорить о задачах обучения с учителем и немного о задачах обучения без учителя.\n",
    "Давайте сначала разберёмся, что такое обучение с учителем и обучение без учителя.\n",
    "\n",
    "## Обучение с учителем\n",
    "\n",
    "Задачи обучения с учителем -- это такие задачи, для которых для некоторого набора данных известны некоторые параметры *объектов обучающей выборки* и *ответы* на эих объектах.\n",
    "\n",
    "Примеры задач обучения с учителем: классификация и регрессия. Классификация -- это задача, где каждый объект обучающей выборки относится к какому-то классу. Задача программы -- отвечать на вопрос о принадлежности объекта к классу для новых объектов.\n"
   ]
  }
 ],
 "metadata": {
  "kernelspec": {
   "display_name": "Python 3",
   "language": "python",
   "name": "python3"
  },
  "language_info": {
   "codemirror_mode": {
    "name": "ipython",
    "version": 3
   },
   "file_extension": ".py",
   "mimetype": "text/x-python",
   "name": "python",
   "nbconvert_exporter": "python",
   "pygments_lexer": "ipython3",
   "version": "3.7.1"
  }
 },
 "nbformat": 4,
 "nbformat_minor": 2
}
