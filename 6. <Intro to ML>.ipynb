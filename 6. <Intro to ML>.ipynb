{
 "cells": [
  {
   "cell_type": "markdown",
   "metadata": {},
   "source": [
    "https://www.kaggle.com/kemical/kickstarter-projects\n",
    "    \n",
    "Steps:\n",
    "    1. Classification, Regression, Clustering -- what does it mean? Simple examples with temperature and snow.\n",
    "    2. KNN implementation with code review.\n",
    "    3. Prediction of projects success for kickstarter."
   ]
  }
 ],
 "metadata": {
  "kernelspec": {
   "display_name": "Python 3",
   "language": "python",
   "name": "python3"
  },
  "language_info": {
   "codemirror_mode": {
    "name": "ipython",
    "version": 3
   },
   "file_extension": ".py",
   "mimetype": "text/x-python",
   "name": "python",
   "nbconvert_exporter": "python",
   "pygments_lexer": "ipython3",
   "version": "3.7.1"
  }
 },
 "nbformat": 4,
 "nbformat_minor": 2
}
