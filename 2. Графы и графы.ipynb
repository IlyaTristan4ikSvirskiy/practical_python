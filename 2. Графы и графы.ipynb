{
 "cells": [
  {
   "cell_type": "markdown",
   "metadata": {},
   "source": [
    "# 0. Подготовка и установка библиотек\n",
    "\n",
    "В этом листке мы разберёмся с тем, как рисовать графы на плоскости с помощью языка Python. Вам предстоит решить несколько задач, которые помогут самостоятельно разобраться с нужными функциями библиотеки.\n",
    "\n",
    "В качестве библиотеки для рисования графов мы будем использовать **networkx**. А отрисовывать мы будем дерево правления монарших династий.\n",
    "\n",
    "Этот листок устроен не так, как предыдущий. Он разбит на две части: вначале предлагается решить задачу на наследование престола, а потом отрисовать получившееся. Обратите внимание, что делать нужно не всё: вам предлагаются 3 уровня выполнения задания, 1 уровень -- условно \"на 3\", 2 уровень -- \"на 4\", 3 уровень -- \"на 5\". При этом сделать нужно весь листок, поэтому рассчитывайте свои силы.\n",
    "\n",
    "# 1. Установка библиотек и важные ссылки\n",
    "\n",
    "Запустите ячейку ниже, чтобы установить нужные библиотеки."
   ]
  },
  {
   "cell_type": "code",
   "execution_count": null,
   "metadata": {},
   "outputs": [],
   "source": [
    "!pip install matplotlib\n",
    "!pip install networkx"
   ]
  },
  {
   "cell_type": "markdown",
   "metadata": {},
   "source": [
    "<a href=\"https://networkx.github.io/documentation/networkx-1.9/tutorial/index.html\">Здесь</a> можно найти инструкции по networkx.\n",
    "\n",
    "Классы в Python: <a href=\"https://pythonworld.ru/osnovy/obektno-orientirovannoe-programmirovanie-obshhee-predstavlenie.html\">по-русски</a>, <a href=\"https://www.learnpython.org/en/Classes_and_Objects\">по-английски</a>, <a href=\"https://docs.python.org/3/tutorial/classes.html\">официальная документация</a>\n",
    "\n",
    "\n"
   ]
  },
  {
   "cell_type": "markdown",
   "metadata": {},
   "source": [
    "# 2. Часть первая: наследование престола\n",
    "\n",
    "Задача состоит в том, чтобы реализовать класс, который будет хранить царскую (королевскую) семью и иметь следующий интерфейс:"
   ]
  },
  {
   "cell_type": "code",
   "execution_count": 22,
   "metadata": {},
   "outputs": [],
   "source": [
    "class Throne:\n",
    "    def __init__(self, first_king_name):\n",
    "        \"\"\" Создаёт класс, в котором есть ровно один человек -- родоначальник династии. \"\"\"\n",
    "        pass\n",
    "    \n",
    "    def marry(self, first_spouse_id, second_spouse_name):\n",
    "        \"\"\" Обрабатывает женитьбу. Принимает на вход id (номер) того, \n",
    "        кто женится (и существует в этом классе) и имя второго супруга (не из этого класса). \"\"\"\n",
    "        pass\n",
    "    \n",
    "    def new_born(self, first_parent_id, second_parent_id, name):\n",
    "        \"\"\" Обрабатывает рождение ребёнка. Принимает на вход имена родителей и имя нового ребёнка, \n",
    "        добавляет его в структуру. \"\"\"\n",
    "        pass\n",
    "    \n",
    "    def die(self, id):\n",
    "        \"\"\" Обрабатывает смерть персонажа по id. \"\"\"\n",
    "        pass\n",
    "    \n",
    "    def who_is_the_king(self):\n",
    "        \"\"\" Возвращает имя текущего короля. \"\"\"\n",
    "        pass"
   ]
  },
  {
   "cell_type": "markdown",
   "metadata": {},
   "source": [
    "## Задача 1\n",
    "Изучите, как в любой выбранной вами стране наследуется престол. Если король умер, к кому переходит трон? Опишите правила (словами) в ячейке ниже."
   ]
  },
  {
   "cell_type": "markdown",
   "metadata": {},
   "source": []
  },
  {
   "cell_type": "markdown",
   "metadata": {},
   "source": [
    "## Задача 2\n",
    "Реализуйте наследование престола, используя шаблон класса выше (можно писать код прямо в той ячейке). \n",
    "\n",
    "**Уровень 1.** Реализуйте методы marry, new_born, die, who_is_the_king. Реализуйте передачу престола от отца к сыну: если у умершего короля есть сын, то новым королём становится этот сын.\n",
    "\n",
    "**Уровень 2.** Реализуйте передачу престола не только от отца к сыну, но и к брату, жене, племяннику или другому родственнику. Не забудьте явно описать, какие правила вы включили.\n",
    "\n",
    "**Уровень 3.** Добавьте добровольную передачу престола без смерти, разводы, браки между персонажами, которые уже в дереве, регентство. В идеале должно получиться полное и корректное описание системы престолонаследования конкретной страны. Попробуйте реализовать всё эффективно по времени и памяти.\n",
    "\n",
    "**С чего начать?** Если вы не понимаете, как работают классы, начните с документации Python про классы. Если уже понимаете, попробуйте сначала придумать, как можно хранить людей (списком?), и реализовать все функции для первого уровня сложности."
   ]
  },
  {
   "cell_type": "markdown",
   "metadata": {},
   "source": [
    "## Задача 3\n",
    "\n",
    "Проверьте, что ваш код правильно работает. Как минимум, запустите его несколько раз в разных ситуациях. Какие ещё способы проверить, что код работает корректно, вы можете предложить?"
   ]
  },
  {
   "cell_type": "code",
   "execution_count": null,
   "metadata": {},
   "outputs": [],
   "source": [
    "# ваш код"
   ]
  },
  {
   "cell_type": "markdown",
   "metadata": {},
   "source": [
    "# 3. Часть вторая: визуализация\n",
    "\n",
    "В этой части мы разберёмся с тем, как нарисовать результаты нашей работы. Для этого будем пользоваться библиотекой networkx.\n",
    "\n"
   ]
  },
  {
   "cell_type": "code",
   "execution_count": 24,
   "metadata": {},
   "outputs": [],
   "source": [
    "import networkx as nx"
   ]
  },
  {
   "cell_type": "markdown",
   "metadata": {},
   "source": [
    "Давайте посмотрим на пример того, как задать граф и нарисовать его с помощью networkx."
   ]
  },
  {
   "cell_type": "code",
   "execution_count": 27,
   "metadata": {},
   "outputs": [
    {
     "data": {
      "image/png": "[encoded data removed]",
      "text/plain": [
       "<Figure size 432x288 with 1 Axes>"
      ]
     },
     "metadata": {},
     "output_type": "display_data"
    }
   ],
   "source": [
    "edges = [\"1 2 первое\",\n",
    "        \"2 3 второе\",\n",
    "        \"3 4 третье\",\n",
    "        \"1 3 четвертое\"]\n",
    "G = nx.parse_edgelist(edges, nodetype=int, data=(('name',str),))\n",
    "nx.draw(G)"
   ]
  },
  {
   "cell_type": "markdown",
   "metadata": {},
   "source": [
    "Можете ли вы понять, как из edges получается граф на картинке, и за что отвечают другие параметры и переменные?\n",
    "\n",
    "В следующих задачах в наш класс для наследования престола надо добавить функцию *draw*, которая будет отвечать за отрисовку информации о персонажах в виде графа. Вам предстоит по примерам разобраться с тем, как это сделать.\n",
    "\n",
    "## Задача 4\n",
    "\n",
    "Ниже перечислено, что должно быть в визуализации. \n",
    "\n",
    "**Уровень 1**\n",
    "0. Отрисовывается граф. Вершины должны представлять людей, рёбра -- отношения между ними.\n",
    "\n",
    "**Уровень 2**\n",
    "1. Вершина, представляющая текущего монарха, выделена другим цветом (<a href=\"https://networkx.github.io/documentation/networkx-1.9/examples/drawing/labels_and_colors.html\">пример</a>).\n",
    "2. Отношения \"родитель-ребёнок\" -- ориентированные рёбра, отношения брака -- неориентированные (<a href=\"https://networkx.github.io/documentation/stable/auto_examples/drawing/plot_directed.html\">пример</a>).\n",
    "\n",
    "**Уровень 3**\n",
    "3. Вершины подписаны именами персонажей (<a href=\"https://networkx.github.io/documentation/networkx-1.9/examples/drawing/labels_and_colors.html\">пример</a>).\n",
    "4. Вершины расположены в хорошем порядке -- приклеены к некоторой сетке, и граф целиком напоминает фамильное древо.\n",
    "5. Придумайте свои улучшения в отрисовке.\n"
   ]
  },
  {
   "cell_type": "code",
   "execution_count": null,
   "metadata": {},
   "outputs": [],
   "source": [
    "# продемонстрируйте здесь работу функции draw класса Throne"
   ]
  }
 ],
 "metadata": {
  "kernelspec": {
   "display_name": "Python 3",
   "language": "python",
   "name": "python3"
  },
  "language_info": {
   "codemirror_mode": {
    "name": "ipython",
    "version": 3
   },
   "file_extension": ".py",
   "mimetype": "text/x-python",
   "name": "python",
   "nbconvert_exporter": "python",
   "pygments_lexer": "ipython3",
   "version": "3.6.6"
  }
 },
 "nbformat": 4,
 "nbformat_minor": 2
}
