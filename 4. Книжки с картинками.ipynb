{
 "cells": [
  {
   "cell_type": "markdown",
   "metadata": {},
   "source": [
    "## 0. Подготовка\n",
    "\n",
    "В этом листке мы научимся базовой работе с картинками с помощью Питона. \n",
    "\n",
    "** Полезные ссылки **:\n",
    "\n",
    "- <a href=\"https://pillow.readthedocs.io/en/5.3.x/\">Документация PIL</a>\n",
    "- <a href=\"https://matplotlib.org/users/colors.html\">Цвета в matplotlib</a>\n",
    "\n",
    "Нам понадобится библиотека *PIL*. Если вы пользуетесь Colab -- она уже установлена. Если вы пользуетесь Jupyter notebook, <a href=\"https://stackoverflow.com/questions/20060096/installing-pil-with-pip\">вот ссылка на инструкцию.</a>"
   ]
  },
  {
   "cell_type": "markdown",
   "metadata": {},
   "source": [
    "## 1. Как работать с картинками"
   ]
  },
  {
   "cell_type": "markdown",
   "metadata": {},
   "source": [
    "Импортируем все необходимые библиотеки:"
   ]
  },
  {
   "cell_type": "code",
   "execution_count": 1,
   "metadata": {
    "collapsed": true
   },
   "outputs": [],
   "source": [
    "import numpy as np # библиотека для \"умной\" обработки многомерных массивов.\n",
    "from PIL import Image\n",
    "import matplotlib.pyplot as plt"
   ]
  },
  {
   "cell_type": "markdown",
   "metadata": {},
   "source": [
    "Попробуем открыть картинку:"
   ]
  },
  {
   "cell_type": "code",
   "execution_count": null,
   "metadata": {},
   "outputs": [],
   "source": [
    "# Если вы пользуетесь Google Colab, нужно сначала загрузить картинку на сервер. \n",
    "# Запустите этот код и выберите картинку с компьютера.\n",
    "\n",
    "from google.colab import files\n",
    "files.upload()"
   ]
  },
  {
   "cell_type": "markdown",
   "metadata": {},
   "source": [
    "Или скачаем много картинок автоматически:"
   ]
  },
  {
   "cell_type": "code",
   "execution_count": 1,
   "metadata": {},
   "outputs": [
    {
     "name": "stderr",
     "output_type": "stream",
     "text": [
      "100%|██████████| 200/200 [03:25<00:00,  1.08s/it]\n"
     ]
    }
   ],
   "source": [
    "# В этом коде ничего, кроме ARGUMENTS редактировать не нужно\n",
    "\n",
    "import requests\n",
    "from bs4 import BeautifulSoup as bs\n",
    "from os import mkdir\n",
    "from tqdm import tqdm\n",
    "\n",
    "# !!! ARGUMENTS !!!\n",
    "image_resolution = ['!PinterestSmall.jpg', '!PinterestLarge.jpg', '!Portrait.jpg', '!Blog.jpg', '!Large.jpg', ''][0]  # В последних скобочках ставить число от 0 до 5. Чем больше число, тем больше разрешение\n",
    "folder = 'van_gog'  # Имя папки, куда будут сохранены изображения\n",
    "# !!! ARGUMENTS !!!\n",
    "\n",
    "all_pics = bs(requests.get('https://www.wikiart.org/ru/vinsent-van-gog/all-works/text-list').text, \"html.parser\")\n",
    "try:\n",
    "    mkdir(folder)\n",
    "except FileExistsError:\n",
    "    pass\n",
    "\n",
    "for i, link in enumerate(tqdm(list(filter(lambda x: (len(x.attrs) == 1) and ('href' in x.attrs), all_pics.findAll('a')))[:200])):\n",
    "    img_link = bs(requests.get('https://www.wikiart.org{}'.format(link.attrs['href'])).text, \"html.parser\").findAll('img', {'itemprop': 'image'})[0].attrs['src'].split('!')[0] + image_resolution\n",
    "    with open('{}/{}.jpg'.format(folder, i + 1), 'wb') as f:\n",
    "        f.write(requests.get(img_link).content)\n"
   ]
  },
  {
   "cell_type": "code",
   "execution_count": 2,
   "metadata": {},
   "outputs": [],
   "source": [
    "# картинка откроется в новом окне\n",
    "im = Image.open(\"Giovanni_Bellini_Sacred_Allegory.jpg\")\n",
    "im.show()"
   ]
  },
  {
   "cell_type": "markdown",
   "metadata": {},
   "source": [
    "Картинка для нас -- это многомерный массив чисел. Нам нужно хранить отдельно цвет каждого пикселя, то есть нам понадобится массив размера (высота * ширина * 3), потому что цвет пикселя задаётся тремя цветами: разные компоненты отвечают за красный, синий и зелёный. Такая модель называется RGB (red-green-blue). Бывают и другие цветовые модели. Например, принтеры используют модель CMYK на основе четырёх цветов.\n",
    "\n",
    "В этом листке мы будем пользоваться библиотекой numpy, которая позволяет эффективно работать с массивами. Синтаксис numpy отличается от обычного синтаксиса массивов. Например, получать элемент с координатами x, y, z нужно с помощью оператора [x, y, z], а не [x][y][z]:"
   ]
  },
  {
   "cell_type": "code",
   "execution_count": 14,
   "metadata": {},
   "outputs": [
    {
     "name": "stdout",
     "output_type": "stream",
     "text": [
      "6\n",
      "6\n"
     ]
    }
   ],
   "source": [
    "python_array = [[1, 2, 3], [4, 5, 6], [7, 8, 9]]\n",
    "numpy_array = np.array(python_array)\n",
    "print(python_array[1][2])\n",
    "print(numpy_array[1, 2])"
   ]
  },
  {
   "cell_type": "markdown",
   "metadata": {},
   "source": [
    "Преобразуем нашу картинку в массив и посмотрим на её размер."
   ]
  },
  {
   "cell_type": "code",
   "execution_count": 15,
   "metadata": {},
   "outputs": [
    {
     "name": "stdout",
     "output_type": "stream",
     "text": [
      "(609, 1000, 3)\n"
     ]
    }
   ],
   "source": [
    "image_array = np.asarray(im)\n",
    "print(image_array.shape)"
   ]
  },
  {
   "cell_type": "markdown",
   "metadata": {},
   "source": [
    "Видим, что у нас картинка высоты 609, ширины 1000, а каждый пиксель задаётся тремя цветами."
   ]
  },
  {
   "cell_type": "markdown",
   "metadata": {},
   "source": [
    "## 2. Подробнее о цветах\n",
    "\n",
    "Цвет каждого пикселя задаётся тремя числами от 0 до 255 -- всего чисел 256. Каждое число характеризует насыщенность (\"освещенность\") красного, зелёного или синего цвета: (0, 0, 0) соответствует чёрному цвету, (255, 255, 255) -- белому, а, например, (255, 0, 0) -- красному.\n",
    "\n",
    "### Задача 1. Палитра\n",
    "\n",
    "Ниже реализована функция, которая позволяет нарисовать кружок данного цвета. В качестве цвета можно передавать массив из трёх элементов -- цвет точки. \n",
    "\n",
    "В matplotlib цвет нужно передавать не от 0 до 255, а от 0 до 1, то есть 255 будет соответствовать единице, а 0 -- нулю.\n",
    "\n",
    "Выпишите ниже формулу, которая преобразует число от 0 до 255 в число от 0 до 1. Реализуйте соотвествующую функцию."
   ]
  },
  {
   "cell_type": "markdown",
   "metadata": {},
   "source": [
    "Формула:\n",
    "\n",
    "\n",
    "<напишите тут формулу>"
   ]
  },
  {
   "cell_type": "code",
   "execution_count": null,
   "metadata": {
    "collapsed": true
   },
   "outputs": [],
   "source": [
    "def get_float_color(color): # реализуйте тут функцию\n",
    "    assert len(color) == 3, \"Цвет должен быть массивом длины 3\"\n",
    "    assert 0 <= color[0] <= 255 and 0 <= color[1] <= 255 and 0 <= color[2] <= 255, \"Все цвета должны быть числами от 0 до 255\"\n",
    "    # ваш код\n",
    "    color_zero_one = ...\n",
    "    return color_zero_one\n",
    "    "
   ]
  },
  {
   "cell_type": "code",
   "execution_count": 6,
   "metadata": {},
   "outputs": [],
   "source": [
    "def draw_circle(color): # функция, которая рисует кружок, её изменять не надо\n",
    "    plt.figure(figsize=(2, 2))\n",
    "    plt.axis('off')\n",
    "    plt.scatter([0], [0], s=10000, color=color)\n",
    "    plt.show()"
   ]
  },
  {
   "cell_type": "code",
   "execution_count": 7,
   "metadata": {},
   "outputs": [
    {
     "data": {
      "image/png": "[encoded data removed]",
      "text/plain": [
       "<matplotlib.figure.Figure at 0x7fc729a27e48>"
      ]
     },
     "metadata": {},
     "output_type": "display_data"
    }
   ],
   "source": [
    "draw_circle((0, 0, 0))"
   ]
  },
  {
   "cell_type": "code",
   "execution_count": 8,
   "metadata": {},
   "outputs": [
    {
     "data": {
      "image/png": "[encoded data removed]",
      "text/plain": [
       "<matplotlib.figure.Figure at 0x7fc727a072e8>"
      ]
     },
     "metadata": {},
     "output_type": "display_data"
    }
   ],
   "source": [
    "draw_circle((0, 0.9, 0.5))"
   ]
  },
  {
   "cell_type": "markdown",
   "metadata": {},
   "source": [
    "*Задание:* Нарисуйте кружки следующих цветов:\n",
    "\n",
    "- серо-буро-малиновый\n",
    "- индиго\n",
    "- персиковый\n",
    "- фуксия\n",
    "- кирпичный\n",
    "\n",
    "(просто подберите числа для функции draw_circle, чтобы получился примерно такой цвет)."
   ]
  },
  {
   "cell_type": "code",
   "execution_count": null,
   "metadata": {
    "collapsed": true
   },
   "outputs": [],
   "source": [
    "# ваш код\n"
   ]
  },
  {
   "cell_type": "markdown",
   "metadata": {},
   "source": [
    "## Задача 2. Какого цвета картинка?\n",
    "\n",
    "Картинки часто бывают довольно разноцветные. Но что мы будем видеть, если отойдём от неё на большое расстояние? Логично предположить, что близкие пиксели для глаза будут сливаться в точку одного цвета. Наверное, цвет такой общей точки будет примерно средним арифметическим от цвета входящих в неё точек. Мы может посчитать такое среднее арифметическое отдельно по каждой компоненте цвета. Например, для цветов (0, 0, 1), (1, 1, 0) средним будет (0.5, 0.5, 0.5).\n",
    "\n",
    "Напишите функцию, которая принимает на вход картинку и возвращает средний цвет всех пикселей этой картинки. Запустите эту функцию от картинки выше (\"Sacred Allegory\" Джованни Беллини).\n"
   ]
  },
  {
   "cell_type": "code",
   "execution_count": null,
   "metadata": {
    "collapsed": true
   },
   "outputs": [],
   "source": [
    "def mean_color(picture):\n",
    "    # ваш код"
   ]
  },
  {
   "cell_type": "markdown",
   "metadata": {},
   "source": [
    "## Задача 3. Расстояние между цветами\n",
    "Для следующей задачи нам потребуется находить цвета, которые \"близки\" друг к другу. Например, розовый ближе к красному, чем к зелёному.\n",
    "\n",
    "Давайте считать, что каждый цвет -- это точка в трёхмерном пространстве. Давайте считать расстояние между цветами просто обычным (евклидовым) расстоянием между двумя точками, которое задаётся формулой (эта формула следует из теоремы Пифагора):\n",
    "\n",
    "$$d(c_1, c_2) = \\sqrt{(r_1 - r_2)^2 + (g_1 - g_2)^2 + (b_1 - b_2)^2},$$\n",
    "\n",
    "где $c_1 = (r_1, g_1, b_1), c_2 = (r_2, g_2, b_2)$.\n",
    "\n",
    "Реализуйте вычисление расстояния между двумя заданными цветами."
   ]
  },
  {
   "cell_type": "code",
   "execution_count": null,
   "metadata": {
    "collapsed": true
   },
   "outputs": [],
   "source": [
    "def dist(color1, color2):\n",
    "    # ваш код\n",
    "    return d"
   ]
  },
  {
   "cell_type": "markdown",
   "metadata": {},
   "source": [
    "# 3. Картинки из картинок\n",
    "\n",
    "## Задача 4\n",
    "\n",
    "От вас требуется реализовать класс, который обладает следующим функционалом:\n",
    "\n",
    "1. Собирает все картинки, лежащие в папке с ноутбуком и названные 1.jpg, 2.jpg, 3.jpg и т.д. Умеет показывать картинку по её номеру (прямо в ноутбуке)\n",
    "2. Имеет метод get_cropped(i, size), который возвращает картинку с номером i, обрезанную (как угодно) до размера size (размер -- это массив из двух элементов).\n",
    "2. (*) Имеет метод get_resized(i, size), который возвращает картинку с номером i, уменьшенную до размера size, при этом цвет каждого пикселя -- среднее арифметическое цветов нескольких пикселей вокруг.\n",
    "3. (**) Имеет метод get_pixelart(pic), который принимает на вход другую картинку и проделывает следующее:\n",
    "    - из всех имеющихся у нас картинок находит самую близкую по цвету к каждому пикселю картинки pic\n",
    "    - отрисовывает картинку pic, заменив каждый пиксель самой подходящей картинкой.\n",
    "Найдите в Интернете картинки с выраженным цветом, и попробуйте с помощью этих картинок нарисовать картинку той же тематики. Например, портрет из портретов или картину Ван Гога из картин Ван Гога. \n",
    "4. Код должен проходить онлайн-проверку стиля PEP-8.\n",
    "\n",
    "Обратите внимание! Код этой задачи нужно сохранить в отдельном файле .py. По этой задаче будет code-review, то есть помимо правильности работы программы будет проверено то, что соблюдён стиль кода. Если ваш код генерирует больше 2 предупреждений в <a href=\"http://pep8online.com/\">PEP-8</a>, он оценивается в 0 баллов."
   ]
  }
 ],
 "metadata": {
  "kernelspec": {
   "display_name": "Python 3",
   "language": "python",
   "name": "python3"
  },
  "language_info": {
   "codemirror_mode": {
    "name": "ipython",
    "version": 3
   },
   "file_extension": ".py",
   "mimetype": "text/x-python",
   "name": "python",
   "nbconvert_exporter": "python",
   "pygments_lexer": "ipython3",
   "version": "3.6.7"
  }
 },
 "nbformat": 4,
 "nbformat_minor": 2
}
